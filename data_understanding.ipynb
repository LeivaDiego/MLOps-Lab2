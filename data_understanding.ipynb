{
 "cells": [
  {
   "cell_type": "markdown",
   "id": "2d880bc5",
   "metadata": {},
   "source": [
    "# Laboratorio 2: Data Understanding\n",
    "\n",
    "**Universidad del Valle de Guatemala**  \n",
    "**Facultad de Ingeniería**  \n",
    "**Departamento de Ciencias de la Computación**  \n",
    "**Machine Learning Operations** \n",
    "\n",
    "## Integrantes\n",
    "\n",
    "- Arturo Argueta - 21527 \n",
    "- Edwin de León - 22809 \n",
    "- Diego Leiva - 21752 \n",
    "- Pablo Orellana - 21970"
   ]
  },
  {
   "cell_type": "markdown",
   "id": "7a464904",
   "metadata": {},
   "source": [
    "## Librerías"
   ]
  },
  {
   "cell_type": "code",
   "execution_count": null,
   "id": "f821ec3b",
   "metadata": {},
   "outputs": [],
   "source": [
    "import pandas as pd\n",
    "from pathlib import Path\n",
    "import matplotlib.pyplot as plt\n",
    "import seaborn as sns"
   ]
  },
  {
   "cell_type": "markdown",
   "id": "e3db6b8f",
   "metadata": {},
   "source": [
    "## Carga de dataset"
   ]
  },
  {
   "cell_type": "code",
   "execution_count": 2,
   "id": "36153737",
   "metadata": {},
   "outputs": [
    {
     "name": "stdout",
     "output_type": "stream",
     "text": [
      "--------  Dimensiones de los DataFrames  -------- \n",
      "\n",
      "categoria -> registros:     101, columnas:   2\n",
      "cliente   -> registros:   12000, columnas:  12\n",
      "evento    -> registros: 2756101, columnas:   5\n",
      "marca     -> registros:     307, columnas:   2\n",
      "producto  -> registros:   12026, columnas:   6\n"
     ]
    }
   ],
   "source": [
    "# Carpeta de datos\n",
    "DATA_DIR = Path(\"data/raw\")\n",
    "\n",
    "# Cargar datos con cods con caracteres especialesificación latin1 para evitar problema\n",
    "df_categoria = pd.read_csv(DATA_DIR / \"categoria.csv\", encoding=\"latin1\")\n",
    "df_cliente = pd.read_csv(DATA_DIR / \"cliente.csv\", encoding=\"latin1\")\n",
    "df_evento = pd.read_csv(DATA_DIR / \"evento.csv\", encoding=\"latin1\")\n",
    "df_marca = pd.read_csv(DATA_DIR / \"marca.csv\", encoding=\"latin1\")\n",
    "df_producto = pd.read_csv(DATA_DIR / \"producto.csv\", encoding=\"latin1\")\n",
    "\n",
    "# Definir diccionario de dataframes\n",
    "dataframes = {\n",
    "    \"categoria\": df_categoria,\n",
    "    \"cliente\": df_cliente,\n",
    "    \"evento\": df_evento,\n",
    "    \"marca\": df_marca,\n",
    "    \"producto\": df_producto\n",
    "}\n",
    "\n",
    "# Dimensiones de los DataFrames\n",
    "print(\"-\"*8,\" Dimensiones de los DataFrames \",\"-\"*8,\"\\n\")\n",
    "for name, df in dataframes.items():\n",
    "    print(f\"{name:10s}-> registros: {df.shape[0]:>7}, columnas: {df.shape[1]:>3}\")"
   ]
  },
  {
   "cell_type": "markdown",
   "id": "3d9bad28",
   "metadata": {},
   "source": [
    "## Información general de tablas"
   ]
  },
  {
   "cell_type": "code",
   "execution_count": 3,
   "id": "a22680a3",
   "metadata": {},
   "outputs": [
    {
     "name": "stdout",
     "output_type": "stream",
     "text": [
      "--------------- CATEGORIA ---------------\n",
      "<class 'pandas.core.frame.DataFrame'>\n",
      "RangeIndex: 101 entries, 0 to 100\n",
      "Data columns (total 2 columns):\n",
      " #   Column     Non-Null Count  Dtype \n",
      "---  ------     --------------  ----- \n",
      " 0   id         101 non-null    int64 \n",
      " 1   categoria  101 non-null    object\n",
      "dtypes: int64(1), object(1)\n",
      "\n",
      "--------------- CLIENTE ---------------\n",
      "<class 'pandas.core.frame.DataFrame'>\n",
      "RangeIndex: 12000 entries, 0 to 11999\n",
      "Data columns (total 12 columns):\n",
      " #   Column      Non-Null Count  Dtype  \n",
      "---  ------      --------------  -----  \n",
      " 0   id          11719 non-null  float64\n",
      " 1   nombre      11719 non-null  object \n",
      " 2   apellido    11719 non-null  object \n",
      " 3   nacimiento  11719 non-null  object \n",
      " 4   genero      11719 non-null  object \n",
      " 5   empresa     11719 non-null  object \n",
      " 6   idioma      11719 non-null  object \n",
      " 7   nit         11719 non-null  object \n",
      " 8   puesto      11719 non-null  object \n",
      " 9   ciudad      11719 non-null  object \n",
      " 10  correo      11719 non-null  object \n",
      " 11  telefono    11719 non-null  object \n",
      "dtypes: float64(1), object(11)\n",
      "\n",
      "--------------- EVENTO ---------------\n",
      "<class 'pandas.core.frame.DataFrame'>\n",
      "RangeIndex: 2756101 entries, 0 to 2756100\n",
      "Data columns (total 5 columns):\n",
      " #   Column         Dtype  \n",
      "---  ------         -----  \n",
      " 0   timestamp      int64  \n",
      " 1   visitorid      int64  \n",
      " 2   event          object \n",
      " 3   itemid         int64  \n",
      " 4   transactionid  float64\n",
      "dtypes: float64(1), int64(3), object(1)\n",
      "\n",
      "--------------- MARCA ---------------\n",
      "<class 'pandas.core.frame.DataFrame'>\n",
      "RangeIndex: 307 entries, 0 to 306\n",
      "Data columns (total 2 columns):\n",
      " #   Column  Non-Null Count  Dtype \n",
      "---  ------  --------------  ----- \n",
      " 0   id      307 non-null    int64 \n",
      " 1   marca   307 non-null    object\n",
      "dtypes: int64(1), object(1)\n",
      "\n",
      "--------------- PRODUCTO ---------------\n",
      "<class 'pandas.core.frame.DataFrame'>\n",
      "RangeIndex: 12026 entries, 0 to 12025\n",
      "Data columns (total 6 columns):\n",
      " #   Column        Non-Null Count  Dtype  \n",
      "---  ------        --------------  -----  \n",
      " 0   id            12026 non-null  int64  \n",
      " 1   categoria_id  10998 non-null  float64\n",
      " 2   nombre        12026 non-null  object \n",
      " 3   marca_id      11150 non-null  float64\n",
      " 4   volumen       12026 non-null  int64  \n",
      " 5   precio        12020 non-null  float64\n",
      "dtypes: float64(3), int64(2), object(1)\n",
      "\n"
     ]
    }
   ],
   "source": [
    "for name, df in dataframes.items():\n",
    "    print(\"-\"*15, f\"{name.upper()}\", \"-\"*15)\n",
    "    df.info(verbose=True, memory_usage=False)\n",
    "    print(\"\\n\")"
   ]
  },
  {
   "cell_type": "markdown",
   "id": "af0db0bc",
   "metadata": {},
   "source": [
    "### Visualización de tablas básica"
   ]
  },
  {
   "cell_type": "code",
   "execution_count": 4,
   "id": "bb3e8078",
   "metadata": {},
   "outputs": [
    {
     "name": "stdout",
     "output_type": "stream",
     "text": [
      "--------------- CATEGORIA ---------------\n"
     ]
    },
    {
     "data": {
      "text/html": [
       "<div>\n",
       "<style scoped>\n",
       "    .dataframe tbody tr th:only-of-type {\n",
       "        vertical-align: middle;\n",
       "    }\n",
       "\n",
       "    .dataframe tbody tr th {\n",
       "        vertical-align: top;\n",
       "    }\n",
       "\n",
       "    .dataframe thead th {\n",
       "        text-align: right;\n",
       "    }\n",
       "</style>\n",
       "<table border=\"1\" class=\"dataframe\">\n",
       "  <thead>\n",
       "    <tr style=\"text-align: right;\">\n",
       "      <th></th>\n",
       "      <th>id</th>\n",
       "      <th>categoria</th>\n",
       "    </tr>\n",
       "  </thead>\n",
       "  <tbody>\n",
       "    <tr>\n",
       "      <th>0</th>\n",
       "      <td>1</td>\n",
       "      <td>SCOTCH WHISKIES</td>\n",
       "    </tr>\n",
       "    <tr>\n",
       "      <th>1</th>\n",
       "      <td>2</td>\n",
       "      <td>STRAIGHT BOURBON WHISKIES</td>\n",
       "    </tr>\n",
       "    <tr>\n",
       "      <th>2</th>\n",
       "      <td>3</td>\n",
       "      <td>BLENDED WHISKIES</td>\n",
       "    </tr>\n",
       "  </tbody>\n",
       "</table>\n",
       "</div>"
      ],
      "text/plain": [
       "   id                  categoria\n",
       "0   1            SCOTCH WHISKIES\n",
       "1   2  STRAIGHT BOURBON WHISKIES\n",
       "2   3           BLENDED WHISKIES"
      ]
     },
     "metadata": {},
     "output_type": "display_data"
    },
    {
     "name": "stdout",
     "output_type": "stream",
     "text": [
      "--------------- CLIENTE ---------------\n"
     ]
    },
    {
     "data": {
      "text/html": [
       "<div>\n",
       "<style scoped>\n",
       "    .dataframe tbody tr th:only-of-type {\n",
       "        vertical-align: middle;\n",
       "    }\n",
       "\n",
       "    .dataframe tbody tr th {\n",
       "        vertical-align: top;\n",
       "    }\n",
       "\n",
       "    .dataframe thead th {\n",
       "        text-align: right;\n",
       "    }\n",
       "</style>\n",
       "<table border=\"1\" class=\"dataframe\">\n",
       "  <thead>\n",
       "    <tr style=\"text-align: right;\">\n",
       "      <th></th>\n",
       "      <th>id</th>\n",
       "      <th>nombre</th>\n",
       "      <th>apellido</th>\n",
       "      <th>nacimiento</th>\n",
       "      <th>genero</th>\n",
       "      <th>empresa</th>\n",
       "      <th>idioma</th>\n",
       "      <th>nit</th>\n",
       "      <th>puesto</th>\n",
       "      <th>ciudad</th>\n",
       "      <th>correo</th>\n",
       "      <th>telefono</th>\n",
       "    </tr>\n",
       "  </thead>\n",
       "  <tbody>\n",
       "    <tr>\n",
       "      <th>0</th>\n",
       "      <td>599528.0</td>\n",
       "      <td>Samuel</td>\n",
       "      <td>Ward</td>\n",
       "      <td>4/6/89</td>\n",
       "      <td>Male</td>\n",
       "      <td>Yakijo</td>\n",
       "      <td>Marathi</td>\n",
       "      <td>411-44-7088</td>\n",
       "      <td>Geologist IV</td>\n",
       "      <td>Wangjing</td>\n",
       "      <td>sward0@tamu.edu</td>\n",
       "      <td>86-(786)608-5061</td>\n",
       "    </tr>\n",
       "    <tr>\n",
       "      <th>1</th>\n",
       "      <td>121688.0</td>\n",
       "      <td>Willie</td>\n",
       "      <td>Gonzales</td>\n",
       "      <td>6/29/72</td>\n",
       "      <td>Male</td>\n",
       "      <td>Zoonoodle</td>\n",
       "      <td>Maltese</td>\n",
       "      <td>701-87-7540</td>\n",
       "      <td>Programmer III</td>\n",
       "      <td>El Corozo</td>\n",
       "      <td>wgonzales1@apache.org</td>\n",
       "      <td>58-(265)301-3397</td>\n",
       "    </tr>\n",
       "    <tr>\n",
       "      <th>2</th>\n",
       "      <td>552148.0</td>\n",
       "      <td>Betty</td>\n",
       "      <td>Spencer</td>\n",
       "      <td>9/2/83</td>\n",
       "      <td>Female</td>\n",
       "      <td>Youtags</td>\n",
       "      <td>Dhivehi</td>\n",
       "      <td>373-88-4503</td>\n",
       "      <td>Engineer III</td>\n",
       "      <td>Jinhua</td>\n",
       "      <td>bspencer2@shutterfly.com</td>\n",
       "      <td>86-(195)193-9042</td>\n",
       "    </tr>\n",
       "  </tbody>\n",
       "</table>\n",
       "</div>"
      ],
      "text/plain": [
       "         id  nombre  apellido nacimiento  genero    empresa   idioma  \\\n",
       "0  599528.0  Samuel      Ward     4/6/89    Male     Yakijo  Marathi   \n",
       "1  121688.0  Willie  Gonzales    6/29/72    Male  Zoonoodle  Maltese   \n",
       "2  552148.0   Betty   Spencer     9/2/83  Female    Youtags  Dhivehi   \n",
       "\n",
       "           nit          puesto     ciudad                    correo  \\\n",
       "0  411-44-7088    Geologist IV   Wangjing           sward0@tamu.edu   \n",
       "1  701-87-7540  Programmer III  El Corozo     wgonzales1@apache.org   \n",
       "2  373-88-4503    Engineer III     Jinhua  bspencer2@shutterfly.com   \n",
       "\n",
       "           telefono  \n",
       "0  86-(786)608-5061  \n",
       "1  58-(265)301-3397  \n",
       "2  86-(195)193-9042  "
      ]
     },
     "metadata": {},
     "output_type": "display_data"
    },
    {
     "name": "stdout",
     "output_type": "stream",
     "text": [
      "--------------- EVENTO ---------------\n"
     ]
    },
    {
     "data": {
      "text/html": [
       "<div>\n",
       "<style scoped>\n",
       "    .dataframe tbody tr th:only-of-type {\n",
       "        vertical-align: middle;\n",
       "    }\n",
       "\n",
       "    .dataframe tbody tr th {\n",
       "        vertical-align: top;\n",
       "    }\n",
       "\n",
       "    .dataframe thead th {\n",
       "        text-align: right;\n",
       "    }\n",
       "</style>\n",
       "<table border=\"1\" class=\"dataframe\">\n",
       "  <thead>\n",
       "    <tr style=\"text-align: right;\">\n",
       "      <th></th>\n",
       "      <th>timestamp</th>\n",
       "      <th>visitorid</th>\n",
       "      <th>event</th>\n",
       "      <th>itemid</th>\n",
       "      <th>transactionid</th>\n",
       "    </tr>\n",
       "  </thead>\n",
       "  <tbody>\n",
       "    <tr>\n",
       "      <th>0</th>\n",
       "      <td>1433221332117</td>\n",
       "      <td>257597</td>\n",
       "      <td>view</td>\n",
       "      <td>355908</td>\n",
       "      <td>NaN</td>\n",
       "    </tr>\n",
       "    <tr>\n",
       "      <th>1</th>\n",
       "      <td>1433224214164</td>\n",
       "      <td>992329</td>\n",
       "      <td>view</td>\n",
       "      <td>248676</td>\n",
       "      <td>NaN</td>\n",
       "    </tr>\n",
       "    <tr>\n",
       "      <th>2</th>\n",
       "      <td>1433221999827</td>\n",
       "      <td>111016</td>\n",
       "      <td>view</td>\n",
       "      <td>318965</td>\n",
       "      <td>NaN</td>\n",
       "    </tr>\n",
       "  </tbody>\n",
       "</table>\n",
       "</div>"
      ],
      "text/plain": [
       "       timestamp  visitorid event  itemid  transactionid\n",
       "0  1433221332117     257597  view  355908            NaN\n",
       "1  1433224214164     992329  view  248676            NaN\n",
       "2  1433221999827     111016  view  318965            NaN"
      ]
     },
     "metadata": {},
     "output_type": "display_data"
    },
    {
     "name": "stdout",
     "output_type": "stream",
     "text": [
      "--------------- MARCA ---------------\n"
     ]
    },
    {
     "data": {
      "text/html": [
       "<div>\n",
       "<style scoped>\n",
       "    .dataframe tbody tr th:only-of-type {\n",
       "        vertical-align: middle;\n",
       "    }\n",
       "\n",
       "    .dataframe tbody tr th {\n",
       "        vertical-align: top;\n",
       "    }\n",
       "\n",
       "    .dataframe thead th {\n",
       "        text-align: right;\n",
       "    }\n",
       "</style>\n",
       "<table border=\"1\" class=\"dataframe\">\n",
       "  <thead>\n",
       "    <tr style=\"text-align: right;\">\n",
       "      <th></th>\n",
       "      <th>id</th>\n",
       "      <th>marca</th>\n",
       "    </tr>\n",
       "  </thead>\n",
       "  <tbody>\n",
       "    <tr>\n",
       "      <th>0</th>\n",
       "      <td>1</td>\n",
       "      <td>Diageo Americas</td>\n",
       "    </tr>\n",
       "    <tr>\n",
       "      <th>1</th>\n",
       "      <td>2</td>\n",
       "      <td>Heaven Hill Brands</td>\n",
       "    </tr>\n",
       "    <tr>\n",
       "      <th>2</th>\n",
       "      <td>3</td>\n",
       "      <td>Sazerac Co., Inc.</td>\n",
       "    </tr>\n",
       "  </tbody>\n",
       "</table>\n",
       "</div>"
      ],
      "text/plain": [
       "   id               marca\n",
       "0   1     Diageo Americas\n",
       "1   2  Heaven Hill Brands\n",
       "2   3   Sazerac Co., Inc."
      ]
     },
     "metadata": {},
     "output_type": "display_data"
    },
    {
     "name": "stdout",
     "output_type": "stream",
     "text": [
      "--------------- PRODUCTO ---------------\n"
     ]
    },
    {
     "data": {
      "text/html": [
       "<div>\n",
       "<style scoped>\n",
       "    .dataframe tbody tr th:only-of-type {\n",
       "        vertical-align: middle;\n",
       "    }\n",
       "\n",
       "    .dataframe tbody tr th {\n",
       "        vertical-align: top;\n",
       "    }\n",
       "\n",
       "    .dataframe thead th {\n",
       "        text-align: right;\n",
       "    }\n",
       "</style>\n",
       "<table border=\"1\" class=\"dataframe\">\n",
       "  <thead>\n",
       "    <tr style=\"text-align: right;\">\n",
       "      <th></th>\n",
       "      <th>id</th>\n",
       "      <th>categoria_id</th>\n",
       "      <th>nombre</th>\n",
       "      <th>marca_id</th>\n",
       "      <th>volumen</th>\n",
       "      <th>precio</th>\n",
       "    </tr>\n",
       "  </thead>\n",
       "  <tbody>\n",
       "    <tr>\n",
       "      <th>0</th>\n",
       "      <td>356475</td>\n",
       "      <td>9.0</td>\n",
       "      <td>Crown Royal Honey</td>\n",
       "      <td>1.0</td>\n",
       "      <td>750</td>\n",
       "      <td>22.49</td>\n",
       "    </tr>\n",
       "    <tr>\n",
       "      <th>1</th>\n",
       "      <td>15335</td>\n",
       "      <td>9.0</td>\n",
       "      <td>Crown Royal Regal Apple Mini</td>\n",
       "      <td>1.0</td>\n",
       "      <td>300</td>\n",
       "      <td>11.03</td>\n",
       "    </tr>\n",
       "    <tr>\n",
       "      <th>2</th>\n",
       "      <td>81345</td>\n",
       "      <td>9.0</td>\n",
       "      <td>Crown Royal Regal Apple</td>\n",
       "      <td>1.0</td>\n",
       "      <td>200</td>\n",
       "      <td>7.08</td>\n",
       "    </tr>\n",
       "  </tbody>\n",
       "</table>\n",
       "</div>"
      ],
      "text/plain": [
       "       id  categoria_id                        nombre  marca_id  volumen  \\\n",
       "0  356475           9.0             Crown Royal Honey       1.0      750   \n",
       "1   15335           9.0  Crown Royal Regal Apple Mini       1.0      300   \n",
       "2   81345           9.0       Crown Royal Regal Apple       1.0      200   \n",
       "\n",
       "   precio  \n",
       "0   22.49  \n",
       "1   11.03  \n",
       "2    7.08  "
      ]
     },
     "metadata": {},
     "output_type": "display_data"
    }
   ],
   "source": [
    "for name, df in dataframes.items():\n",
    "    print(\"-\"*15, f\"{name.upper()}\", \"-\"*15)\n",
    "    display(df.head(3))"
   ]
  },
  {
   "cell_type": "markdown",
   "id": "1e2b1c60",
   "metadata": {},
   "source": [
    "## Chequeo de calidad de datos"
   ]
  },
  {
   "cell_type": "markdown",
   "id": "ca358b21",
   "metadata": {},
   "source": [
    "### Valores Duplicados"
   ]
  },
  {
   "cell_type": "code",
   "execution_count": 5,
   "id": "f6281e70",
   "metadata": {},
   "outputs": [],
   "source": [
    "def duped_report(df, subset=None):\n",
    "    \"\"\"\n",
    "    Genera un informe sobre los duplicados en un DataFrame.\n",
    "\n",
    "    Args:\n",
    "        df (pd.DataFrame): El DataFrame a analizar.\n",
    "        subset (list, optional): Lista de columnas a considerar para identificar duplicados.\n",
    "\n",
    "    Returns:\n",
    "        tuple: Número de duplicados y porcentaje de duplicados.\n",
    "    \"\"\"\n",
    "    total = len(df) # Total de registros en el DataFrame\n",
    "    dups = df.duplicated(subset=subset).sum() # Total de duplicados\n",
    "    pct = round((dups / total) * 100, 2) if total > 0 else 0 # Porcentaje de duplicados\n",
    "    return dups, pct"
   ]
  },
  {
   "cell_type": "markdown",
   "id": "9c11ab73",
   "metadata": {},
   "source": [
    "#### Registros duplicados"
   ]
  },
  {
   "cell_type": "code",
   "execution_count": 6,
   "id": "c9d25752",
   "metadata": {},
   "outputs": [
    {
     "name": "stdout",
     "output_type": "stream",
     "text": [
      "categoria : 0 registros duplicados completos (0.0%)\n",
      "cliente   : 280 registros duplicados completos (2.33%)\n",
      "evento    : 460 registros duplicados completos (0.02%)\n",
      "marca     : 0 registros duplicados completos (0.0%)\n",
      "producto  : 0 registros duplicados completos (0.0%)\n"
     ]
    }
   ],
   "source": [
    "for name, df in dataframes.items():\n",
    "    dups, pct = duped_report(df)\n",
    "    print(f\"{name:10s}: {dups} registros duplicados completos ({pct}%)\")"
   ]
  },
  {
   "cell_type": "markdown",
   "id": "48cfb2d3",
   "metadata": {},
   "source": [
    "#### Llaves primarias duplicadas"
   ]
  },
  {
   "cell_type": "code",
   "execution_count": 7,
   "id": "4c196c76",
   "metadata": {},
   "outputs": [
    {
     "name": "stdout",
     "output_type": "stream",
     "text": [
      "categoria  (id): 0 registros con duplicados en 'id' (0.0%)\n",
      "cliente    (id): 280 registros con duplicados en 'id' (2.33%)\n",
      "marca      (id): 0 registros con duplicados en 'id' (0.0%)\n",
      "producto   (id): 1 registros con duplicados en 'id' (0.01%)\n"
     ]
    }
   ],
   "source": [
    "for name, df in dataframes.items():\n",
    "    # No se toma en cuenta EVENTO ya que no tiene llave\n",
    "    if \"id\" in df.columns:\n",
    "        dups, pct = duped_report(df, subset=[\"id\"])\n",
    "        print(f\"{name:10s} (id): {dups} registros con duplicados en 'id' ({pct}%)\")"
   ]
  },
  {
   "cell_type": "markdown",
   "id": "c0c13d76",
   "metadata": {},
   "source": [
    "#### Eventos duplicados"
   ]
  },
  {
   "cell_type": "code",
   "execution_count": 8,
   "id": "ba174ae9",
   "metadata": {},
   "outputs": [
    {
     "name": "stdout",
     "output_type": "stream",
     "text": [
      "evento     [compuesta]: 460 registros con duplicados en combinación (0.02%)\n"
     ]
    }
   ],
   "source": [
    "if {\"timestamp\", \"visitorid\", \"event\", \"itemid\"}.issubset(df_evento.columns):\n",
    "    dups, pct = duped_report(df_evento, subset=[\"timestamp\", \"visitorid\", \"event\", \"itemid\"])\n",
    "    print(f\"{'evento':10s} [compuesta]: {dups} registros con duplicados en combinación ({pct}%)\")"
   ]
  },
  {
   "cell_type": "markdown",
   "id": "9aae32de",
   "metadata": {},
   "source": [
    "**Conclusión y acciones recomendadas:**\n",
    "La mayoría de las tablas no presentan problemas significativos de duplicación, salvo **cliente** y en menor medida **producto** y **evento**. Se recomienda:\n",
    "\n",
    "1. **Cliente:** Revisar y eliminar duplicados completos y de clave primaria, conservando la versión más reciente o con datos más completos.\n",
    "2. **Producto:** Corregir el único caso de clave duplicada para evitar conflictos en relaciones.\n",
    "3. **Evento:** Evaluar si los duplicados representan datos reales repetidos o registros válidos (p. ej., eventos idénticos capturados más de una vez)."
   ]
  },
  {
   "cell_type": "markdown",
   "id": "6e207c8c",
   "metadata": {},
   "source": [
    "### Porcentaje de nulos"
   ]
  },
  {
   "cell_type": "code",
   "execution_count": 9,
   "id": "326cd265",
   "metadata": {},
   "outputs": [],
   "source": [
    "def null_report(df):\n",
    "    \"\"\"\n",
    "    Genera un informe sobre los valores nulos en un DataFrame.\n",
    "\n",
    "    Args:\n",
    "        df (pd.DataFrame): El DataFrame a analizar.\n",
    "\n",
    "    Returns:\n",
    "        pd.DataFrame: Informe sobre los valores nulos en el DataFrame.\n",
    "    \"\"\"\n",
    "    total = len(df) # Total de registros\n",
    "    nulos = df.isna().sum() # Total de valores nulos por columna\n",
    "    pct = round((nulos / total) * 100, 2) if total > 0 else 0 # Porcentaje de valores nulos por columna\n",
    "    report = pd.DataFrame({\n",
    "        \"nulos\": nulos,\n",
    "        \"pct_nulos\": pct\n",
    "    }).sort_values(by=\"pct_nulos\", ascending=False)\n",
    "    return report"
   ]
  },
  {
   "cell_type": "code",
   "execution_count": 10,
   "id": "b755d094",
   "metadata": {},
   "outputs": [
    {
     "name": "stdout",
     "output_type": "stream",
     "text": [
      "Porcentaje nulos por tabla:\n",
      "\n",
      "CATEGORIA\n"
     ]
    },
    {
     "data": {
      "text/html": [
       "<div>\n",
       "<style scoped>\n",
       "    .dataframe tbody tr th:only-of-type {\n",
       "        vertical-align: middle;\n",
       "    }\n",
       "\n",
       "    .dataframe tbody tr th {\n",
       "        vertical-align: top;\n",
       "    }\n",
       "\n",
       "    .dataframe thead th {\n",
       "        text-align: right;\n",
       "    }\n",
       "</style>\n",
       "<table border=\"1\" class=\"dataframe\">\n",
       "  <thead>\n",
       "    <tr style=\"text-align: right;\">\n",
       "      <th></th>\n",
       "      <th>nulos</th>\n",
       "      <th>pct_nulos</th>\n",
       "    </tr>\n",
       "  </thead>\n",
       "  <tbody>\n",
       "    <tr>\n",
       "      <th>id</th>\n",
       "      <td>0</td>\n",
       "      <td>0.0</td>\n",
       "    </tr>\n",
       "    <tr>\n",
       "      <th>categoria</th>\n",
       "      <td>0</td>\n",
       "      <td>0.0</td>\n",
       "    </tr>\n",
       "  </tbody>\n",
       "</table>\n",
       "</div>"
      ],
      "text/plain": [
       "           nulos  pct_nulos\n",
       "id             0        0.0\n",
       "categoria      0        0.0"
      ]
     },
     "metadata": {},
     "output_type": "display_data"
    },
    {
     "name": "stdout",
     "output_type": "stream",
     "text": [
      "\n",
      "CLIENTE\n"
     ]
    },
    {
     "data": {
      "text/html": [
       "<div>\n",
       "<style scoped>\n",
       "    .dataframe tbody tr th:only-of-type {\n",
       "        vertical-align: middle;\n",
       "    }\n",
       "\n",
       "    .dataframe tbody tr th {\n",
       "        vertical-align: top;\n",
       "    }\n",
       "\n",
       "    .dataframe thead th {\n",
       "        text-align: right;\n",
       "    }\n",
       "</style>\n",
       "<table border=\"1\" class=\"dataframe\">\n",
       "  <thead>\n",
       "    <tr style=\"text-align: right;\">\n",
       "      <th></th>\n",
       "      <th>nulos</th>\n",
       "      <th>pct_nulos</th>\n",
       "    </tr>\n",
       "  </thead>\n",
       "  <tbody>\n",
       "    <tr>\n",
       "      <th>id</th>\n",
       "      <td>281</td>\n",
       "      <td>2.34</td>\n",
       "    </tr>\n",
       "    <tr>\n",
       "      <th>nombre</th>\n",
       "      <td>281</td>\n",
       "      <td>2.34</td>\n",
       "    </tr>\n",
       "    <tr>\n",
       "      <th>apellido</th>\n",
       "      <td>281</td>\n",
       "      <td>2.34</td>\n",
       "    </tr>\n",
       "    <tr>\n",
       "      <th>nacimiento</th>\n",
       "      <td>281</td>\n",
       "      <td>2.34</td>\n",
       "    </tr>\n",
       "    <tr>\n",
       "      <th>genero</th>\n",
       "      <td>281</td>\n",
       "      <td>2.34</td>\n",
       "    </tr>\n",
       "    <tr>\n",
       "      <th>empresa</th>\n",
       "      <td>281</td>\n",
       "      <td>2.34</td>\n",
       "    </tr>\n",
       "    <tr>\n",
       "      <th>idioma</th>\n",
       "      <td>281</td>\n",
       "      <td>2.34</td>\n",
       "    </tr>\n",
       "    <tr>\n",
       "      <th>nit</th>\n",
       "      <td>281</td>\n",
       "      <td>2.34</td>\n",
       "    </tr>\n",
       "    <tr>\n",
       "      <th>puesto</th>\n",
       "      <td>281</td>\n",
       "      <td>2.34</td>\n",
       "    </tr>\n",
       "    <tr>\n",
       "      <th>ciudad</th>\n",
       "      <td>281</td>\n",
       "      <td>2.34</td>\n",
       "    </tr>\n",
       "    <tr>\n",
       "      <th>correo</th>\n",
       "      <td>281</td>\n",
       "      <td>2.34</td>\n",
       "    </tr>\n",
       "    <tr>\n",
       "      <th>telefono</th>\n",
       "      <td>281</td>\n",
       "      <td>2.34</td>\n",
       "    </tr>\n",
       "  </tbody>\n",
       "</table>\n",
       "</div>"
      ],
      "text/plain": [
       "            nulos  pct_nulos\n",
       "id            281       2.34\n",
       "nombre        281       2.34\n",
       "apellido      281       2.34\n",
       "nacimiento    281       2.34\n",
       "genero        281       2.34\n",
       "empresa       281       2.34\n",
       "idioma        281       2.34\n",
       "nit           281       2.34\n",
       "puesto        281       2.34\n",
       "ciudad        281       2.34\n",
       "correo        281       2.34\n",
       "telefono      281       2.34"
      ]
     },
     "metadata": {},
     "output_type": "display_data"
    },
    {
     "name": "stdout",
     "output_type": "stream",
     "text": [
      "\n",
      "EVENTO\n"
     ]
    },
    {
     "data": {
      "text/html": [
       "<div>\n",
       "<style scoped>\n",
       "    .dataframe tbody tr th:only-of-type {\n",
       "        vertical-align: middle;\n",
       "    }\n",
       "\n",
       "    .dataframe tbody tr th {\n",
       "        vertical-align: top;\n",
       "    }\n",
       "\n",
       "    .dataframe thead th {\n",
       "        text-align: right;\n",
       "    }\n",
       "</style>\n",
       "<table border=\"1\" class=\"dataframe\">\n",
       "  <thead>\n",
       "    <tr style=\"text-align: right;\">\n",
       "      <th></th>\n",
       "      <th>nulos</th>\n",
       "      <th>pct_nulos</th>\n",
       "    </tr>\n",
       "  </thead>\n",
       "  <tbody>\n",
       "    <tr>\n",
       "      <th>transactionid</th>\n",
       "      <td>2733644</td>\n",
       "      <td>99.19</td>\n",
       "    </tr>\n",
       "    <tr>\n",
       "      <th>timestamp</th>\n",
       "      <td>0</td>\n",
       "      <td>0.00</td>\n",
       "    </tr>\n",
       "    <tr>\n",
       "      <th>visitorid</th>\n",
       "      <td>0</td>\n",
       "      <td>0.00</td>\n",
       "    </tr>\n",
       "    <tr>\n",
       "      <th>event</th>\n",
       "      <td>0</td>\n",
       "      <td>0.00</td>\n",
       "    </tr>\n",
       "    <tr>\n",
       "      <th>itemid</th>\n",
       "      <td>0</td>\n",
       "      <td>0.00</td>\n",
       "    </tr>\n",
       "  </tbody>\n",
       "</table>\n",
       "</div>"
      ],
      "text/plain": [
       "                 nulos  pct_nulos\n",
       "transactionid  2733644      99.19\n",
       "timestamp            0       0.00\n",
       "visitorid            0       0.00\n",
       "event                0       0.00\n",
       "itemid               0       0.00"
      ]
     },
     "metadata": {},
     "output_type": "display_data"
    },
    {
     "name": "stdout",
     "output_type": "stream",
     "text": [
      "\n",
      "MARCA\n"
     ]
    },
    {
     "data": {
      "text/html": [
       "<div>\n",
       "<style scoped>\n",
       "    .dataframe tbody tr th:only-of-type {\n",
       "        vertical-align: middle;\n",
       "    }\n",
       "\n",
       "    .dataframe tbody tr th {\n",
       "        vertical-align: top;\n",
       "    }\n",
       "\n",
       "    .dataframe thead th {\n",
       "        text-align: right;\n",
       "    }\n",
       "</style>\n",
       "<table border=\"1\" class=\"dataframe\">\n",
       "  <thead>\n",
       "    <tr style=\"text-align: right;\">\n",
       "      <th></th>\n",
       "      <th>nulos</th>\n",
       "      <th>pct_nulos</th>\n",
       "    </tr>\n",
       "  </thead>\n",
       "  <tbody>\n",
       "    <tr>\n",
       "      <th>id</th>\n",
       "      <td>0</td>\n",
       "      <td>0.0</td>\n",
       "    </tr>\n",
       "    <tr>\n",
       "      <th>marca</th>\n",
       "      <td>0</td>\n",
       "      <td>0.0</td>\n",
       "    </tr>\n",
       "  </tbody>\n",
       "</table>\n",
       "</div>"
      ],
      "text/plain": [
       "       nulos  pct_nulos\n",
       "id         0        0.0\n",
       "marca      0        0.0"
      ]
     },
     "metadata": {},
     "output_type": "display_data"
    },
    {
     "name": "stdout",
     "output_type": "stream",
     "text": [
      "\n",
      "PRODUCTO\n"
     ]
    },
    {
     "data": {
      "text/html": [
       "<div>\n",
       "<style scoped>\n",
       "    .dataframe tbody tr th:only-of-type {\n",
       "        vertical-align: middle;\n",
       "    }\n",
       "\n",
       "    .dataframe tbody tr th {\n",
       "        vertical-align: top;\n",
       "    }\n",
       "\n",
       "    .dataframe thead th {\n",
       "        text-align: right;\n",
       "    }\n",
       "</style>\n",
       "<table border=\"1\" class=\"dataframe\">\n",
       "  <thead>\n",
       "    <tr style=\"text-align: right;\">\n",
       "      <th></th>\n",
       "      <th>nulos</th>\n",
       "      <th>pct_nulos</th>\n",
       "    </tr>\n",
       "  </thead>\n",
       "  <tbody>\n",
       "    <tr>\n",
       "      <th>categoria_id</th>\n",
       "      <td>1028</td>\n",
       "      <td>8.55</td>\n",
       "    </tr>\n",
       "    <tr>\n",
       "      <th>marca_id</th>\n",
       "      <td>876</td>\n",
       "      <td>7.28</td>\n",
       "    </tr>\n",
       "    <tr>\n",
       "      <th>precio</th>\n",
       "      <td>6</td>\n",
       "      <td>0.05</td>\n",
       "    </tr>\n",
       "    <tr>\n",
       "      <th>id</th>\n",
       "      <td>0</td>\n",
       "      <td>0.00</td>\n",
       "    </tr>\n",
       "    <tr>\n",
       "      <th>nombre</th>\n",
       "      <td>0</td>\n",
       "      <td>0.00</td>\n",
       "    </tr>\n",
       "    <tr>\n",
       "      <th>volumen</th>\n",
       "      <td>0</td>\n",
       "      <td>0.00</td>\n",
       "    </tr>\n",
       "  </tbody>\n",
       "</table>\n",
       "</div>"
      ],
      "text/plain": [
       "              nulos  pct_nulos\n",
       "categoria_id   1028       8.55\n",
       "marca_id        876       7.28\n",
       "precio            6       0.05\n",
       "id                0       0.00\n",
       "nombre            0       0.00\n",
       "volumen           0       0.00"
      ]
     },
     "metadata": {},
     "output_type": "display_data"
    }
   ],
   "source": [
    "print(\"Porcentaje nulos por tabla:\")\n",
    "for name, df in dataframes.items():\n",
    "    s = null_report(df)\n",
    "    print(f\"\\n{name.upper()}\")\n",
    "    display(s)"
   ]
  },
  {
   "cell_type": "markdown",
   "id": "97024901",
   "metadata": {},
   "source": [
    "**Conclusión y acciones recomendadas:**\n",
    "\n",
    "* **Cliente:** Revisar si los 281 registros con todos los campos nulos son válidos (p. ej., visitantes no identificados) y considerar eliminarlos o marcarlos como anónimos.\n",
    "* **Evento:** Confirmar si `transactionid` solo aplica a eventos de tipo compra; si no, investigar por qué está ausente en casi todos los registros.\n",
    "* **Producto:** Completar `categoria_id` y `marca_id` mediante mapeo con datos externos o, si no es posible, etiquetar como “Desconocido”. Corregir o eliminar los casos con `precio` nulo según proceda."
   ]
  },
  {
   "cell_type": "markdown",
   "id": "a9119f0d",
   "metadata": {},
   "source": [
    "### Validaciones referenciales"
   ]
  },
  {
   "cell_type": "markdown",
   "id": "f8600b5c",
   "metadata": {},
   "source": [
    "#### Llaves foráneas"
   ]
  },
  {
   "cell_type": "code",
   "execution_count": 11,
   "id": "4d37971a",
   "metadata": {},
   "outputs": [],
   "source": [
    "def validate_foreign_keys(df_child, col_fk, df_parent, col_pk):\n",
    "    \"\"\"\n",
    "    Valida la integridad referencial de una clave foránea (FK) en un DataFrame \n",
    "    hijo hacia una clave primaria (PK) en un DataFrame padre.\n",
    "\n",
    "    Args:\n",
    "        df_child (pd.DataFrame): DataFrame hijo.\n",
    "        col_fk (str): Nombre de la columna de clave foránea en el DataFrame hijo.\n",
    "        df_parent (pd.DataFrame): DataFrame padre.\n",
    "        col_pk (str): Nombre de la columna de clave primaria en el DataFrame padre.\n",
    "\n",
    "    Returns:\n",
    "        dict: Informe sobre la validación de la clave foránea.\n",
    "    \"\"\"\n",
    "    total = df_child[col_fk].notna().sum() # Total de valores no nulos en la FK\n",
    "    matches = df_child[col_fk].isin(df_parent[col_pk]).sum() # Total de coincidencias en la PK\n",
    "    missing = total - matches # Total de valores faltantes en la PK\n",
    "    pct_ok = round((matches / total) * 100, 2) if total > 0 else 0 # Porcentaje de coincidencias\n",
    "    return {\n",
    "        \"total_fk_no_nulos\": total,\n",
    "        \"coinciden\": matches,\n",
    "        \"faltan\": missing,\n",
    "        \"pct_ok\": pct_ok\n",
    "    }"
   ]
  },
  {
   "cell_type": "code",
   "execution_count": 12,
   "id": "f5d719f6",
   "metadata": {},
   "outputs": [],
   "source": [
    "def print_fk_results(results):\n",
    "    \"\"\"\n",
    "    Imprime los resultados de la validación de claves foráneas.\n",
    "\n",
    "    Args:\n",
    "        results (dict): Resultados de la validación de claves foráneas.\n",
    "    \"\"\"\n",
    "    header = f\"{'Relación':25s} {'Total FK no nulos':>15s} {'Coinciden':>15s} {'Faltan':>10s} {'% OK':>8s}\"\n",
    "    print(header)\n",
    "    print(\"-\" * len(header))\n",
    "    for rel, stats in results.items():\n",
    "        print(f\"{rel:25s} {stats['total_fk_no_nulos']:15d} {stats['coinciden']:15d} {stats['faltan']:10d} {stats['pct_ok']:10.2f}\")"
   ]
  },
  {
   "cell_type": "code",
   "execution_count": 13,
   "id": "860918f4",
   "metadata": {},
   "outputs": [
    {
     "name": "stdout",
     "output_type": "stream",
     "text": [
      "Relación                  Total FK no nulos       Coinciden     Faltan     % OK\n",
      "-------------------------------------------------------------------------------\n",
      "Producto -> Categoria               10998           10998          0     100.00\n",
      "Producto -> Marca                   11150           11150          0     100.00\n",
      "Evento -> Producto                2756101          914057    1842044      33.16\n",
      "Evento -> Cliente                 2756101          230678    2525423       8.37\n"
     ]
    }
   ],
   "source": [
    "# Conversion numérica de claves foráneas\n",
    "df_evento[\"itemid_num\"] = pd.to_numeric(df_evento[\"itemid\"], errors=\"coerce\")\n",
    "df_evento[\"visitorid_num\"] = pd.to_numeric(df_evento[\"visitorid\"], errors=\"coerce\")\n",
    "\n",
    "\n",
    "# Validaciones referenciales\n",
    "results = {\n",
    "    \"Producto -> Categoria\": validate_foreign_keys(df_producto, \"categoria_id\", df_categoria, \"id\"),\n",
    "    \"Producto -> Marca\": validate_foreign_keys(df_producto, \"marca_id\", df_marca, \"id\"),\n",
    "    \"Evento -> Producto\": validate_foreign_keys(df_evento, \"itemid_num\", df_producto, \"id\"),\n",
    "    \"Evento -> Cliente\": validate_foreign_keys(df_evento, \"visitorid_num\", df_cliente, \"id\")\n",
    "}\n",
    "\n",
    "print_fk_results(results)"
   ]
  },
  {
   "cell_type": "markdown",
   "id": "046ba52e",
   "metadata": {},
   "source": [
    "#### Productos fuera de catálogo"
   ]
  },
  {
   "cell_type": "code",
   "execution_count": 14,
   "id": "32a930d3",
   "metadata": {},
   "outputs": [
    {
     "name": "stdout",
     "output_type": "stream",
     "text": [
      "Total de itemid distintos fuera de catálogo: 223,036\n",
      "Top 10 itemid fuera de catálogo por frecuencia:\n"
     ]
    },
    {
     "data": {
      "text/html": [
       "<div>\n",
       "<style scoped>\n",
       "    .dataframe tbody tr th:only-of-type {\n",
       "        vertical-align: middle;\n",
       "    }\n",
       "\n",
       "    .dataframe tbody tr th {\n",
       "        vertical-align: top;\n",
       "    }\n",
       "\n",
       "    .dataframe thead th {\n",
       "        text-align: right;\n",
       "    }\n",
       "</style>\n",
       "<table border=\"1\" class=\"dataframe\">\n",
       "  <thead>\n",
       "    <tr style=\"text-align: right;\">\n",
       "      <th></th>\n",
       "      <th>itemid</th>\n",
       "      <th>frecuencia</th>\n",
       "    </tr>\n",
       "  </thead>\n",
       "  <tbody>\n",
       "    <tr>\n",
       "      <th>0</th>\n",
       "      <td>187946</td>\n",
       "      <td>3412</td>\n",
       "    </tr>\n",
       "    <tr>\n",
       "      <th>1</th>\n",
       "      <td>5411</td>\n",
       "      <td>2334</td>\n",
       "    </tr>\n",
       "    <tr>\n",
       "      <th>2</th>\n",
       "      <td>370653</td>\n",
       "      <td>1854</td>\n",
       "    </tr>\n",
       "    <tr>\n",
       "      <th>3</th>\n",
       "      <td>298009</td>\n",
       "      <td>1642</td>\n",
       "    </tr>\n",
       "    <tr>\n",
       "      <th>4</th>\n",
       "      <td>96924</td>\n",
       "      <td>1633</td>\n",
       "    </tr>\n",
       "    <tr>\n",
       "      <th>5</th>\n",
       "      <td>335975</td>\n",
       "      <td>1428</td>\n",
       "    </tr>\n",
       "    <tr>\n",
       "      <th>6</th>\n",
       "      <td>151444</td>\n",
       "      <td>1230</td>\n",
       "    </tr>\n",
       "    <tr>\n",
       "      <th>7</th>\n",
       "      <td>142466</td>\n",
       "      <td>1136</td>\n",
       "    </tr>\n",
       "    <tr>\n",
       "      <th>8</th>\n",
       "      <td>434782</td>\n",
       "      <td>1069</td>\n",
       "    </tr>\n",
       "    <tr>\n",
       "      <th>9</th>\n",
       "      <td>91755</td>\n",
       "      <td>1024</td>\n",
       "    </tr>\n",
       "  </tbody>\n",
       "</table>\n",
       "</div>"
      ],
      "text/plain": [
       "   itemid  frecuencia\n",
       "0  187946        3412\n",
       "1    5411        2334\n",
       "2  370653        1854\n",
       "3  298009        1642\n",
       "4   96924        1633\n",
       "5  335975        1428\n",
       "6  151444        1230\n",
       "7  142466        1136\n",
       "8  434782        1069\n",
       "9   91755        1024"
      ]
     },
     "metadata": {},
     "output_type": "display_data"
    }
   ],
   "source": [
    "# Conversión segura a numérico\n",
    "itemid = pd.to_numeric(df_evento[\"itemid\"], errors=\"coerce\")\n",
    "prod_ids = set(df_producto[\"id\"].dropna().astype(int))\n",
    "\n",
    "# Máscaras para itemid\n",
    "mask_nonnull = itemid.notna()\n",
    "mask_miss = ~itemid.astype(\"Int64\").isin(prod_ids)\n",
    "\n",
    "# Distintos fuera de catálogo\n",
    "miss_itemid_unique = itemid[mask_nonnull & mask_miss].nunique()\n",
    "\n",
    "print(f\"Total de itemid distintos fuera de catálogo: {miss_itemid_unique:,}\")\n",
    "\n",
    "# Top 10 itemid sin match con frecuencia\n",
    "top_miss_itemid = (\n",
    "    df_evento.loc[mask_nonnull & mask_miss, \"itemid\"]\n",
    "    .value_counts()\n",
    "    .reset_index()\n",
    "    .rename(columns={\"count\": \"frecuencia\"})\n",
    "    .head(10)\n",
    ")\n",
    "\n",
    "# Mostrar el resultado\n",
    "print(\"Top 10 itemid fuera de catálogo por frecuencia:\")\n",
    "display(top_miss_itemid)"
   ]
  },
  {
   "cell_type": "markdown",
   "id": "9ee855f0",
   "metadata": {},
   "source": [
    "#### Validación referencial por tipo de evento"
   ]
  },
  {
   "cell_type": "code",
   "execution_count": 15,
   "id": "af886b05",
   "metadata": {},
   "outputs": [
    {
     "name": "stdout",
     "output_type": "stream",
     "text": [
      "Match itemid → producto por tipo de evento\n"
     ]
    },
    {
     "data": {
      "text/html": [
       "<div>\n",
       "<style scoped>\n",
       "    .dataframe tbody tr th:only-of-type {\n",
       "        vertical-align: middle;\n",
       "    }\n",
       "\n",
       "    .dataframe tbody tr th {\n",
       "        vertical-align: top;\n",
       "    }\n",
       "\n",
       "    .dataframe thead th {\n",
       "        text-align: right;\n",
       "    }\n",
       "</style>\n",
       "<table border=\"1\" class=\"dataframe\">\n",
       "  <thead>\n",
       "    <tr style=\"text-align: right;\">\n",
       "      <th></th>\n",
       "      <th>total</th>\n",
       "      <th>matches</th>\n",
       "      <th>non_matches</th>\n",
       "      <th>pct_match</th>\n",
       "    </tr>\n",
       "    <tr>\n",
       "      <th>event</th>\n",
       "      <th></th>\n",
       "      <th></th>\n",
       "      <th></th>\n",
       "      <th></th>\n",
       "    </tr>\n",
       "  </thead>\n",
       "  <tbody>\n",
       "    <tr>\n",
       "      <th>transaction</th>\n",
       "      <td>22,457</td>\n",
       "      <td>22,457</td>\n",
       "      <td>0</td>\n",
       "      <td>100.00%</td>\n",
       "    </tr>\n",
       "    <tr>\n",
       "      <th>addtocart</th>\n",
       "      <td>69,332</td>\n",
       "      <td>48,764</td>\n",
       "      <td>20,568</td>\n",
       "      <td>70.33%</td>\n",
       "    </tr>\n",
       "    <tr>\n",
       "      <th>view</th>\n",
       "      <td>2,664,312</td>\n",
       "      <td>842,836</td>\n",
       "      <td>1,821,476</td>\n",
       "      <td>31.63%</td>\n",
       "    </tr>\n",
       "  </tbody>\n",
       "</table>\n",
       "</div>"
      ],
      "text/plain": [
       "                 total  matches non_matches pct_match\n",
       "event                                                \n",
       "transaction     22,457   22,457           0   100.00%\n",
       "addtocart       69,332   48,764      20,568    70.33%\n",
       "view         2,664,312  842,836   1,821,476    31.63%"
      ]
     },
     "metadata": {},
     "output_type": "display_data"
    }
   ],
   "source": [
    "# Preparación de dataframe \n",
    "df_evento[\"itemid\"] = itemid\n",
    "df_evento[\"has_product_match\"] = df_evento[\"itemid\"].astype(\"Int64\").isin(prod_ids) \n",
    "\n",
    "# Resumen por tipo de evento\n",
    "summary = (\n",
    "    # Agrupación por tipo de evento\n",
    "    df_evento.groupby(\"event\")[\"has_product_match\"]\n",
    "    .agg(total=\"size\", matches=\"sum\")\n",
    "    .assign(\n",
    "        non_matches=lambda d: d[\"total\"] - d[\"matches\"], # No coinciden\n",
    "        pct_match=lambda d: (d[\"matches\"] / d[\"total\"] * 100).round(2) # Porcentaje de coincidencias\n",
    "    )\n",
    "    .sort_values(\"pct_match\", ascending=False) # Ordenar por porcentaje de coincidencias\n",
    ")\n",
    "\n",
    "# Formateo de resumen\n",
    "summary_fmt = summary.copy()\n",
    "for col in [\"total\", \"matches\", \"non_matches\"]:\n",
    "    summary_fmt[col] = summary_fmt[col].map(lambda x: f\"{x:,}\")\n",
    "summary_fmt[\"pct_match\"] = summary[\"pct_match\"].map(lambda x: f\"{x:.2f}%\")\n",
    "\n",
    "print(\"Match itemid → producto por tipo de evento\")\n",
    "display(summary_fmt)"
   ]
  },
  {
   "cell_type": "markdown",
   "id": "f886fa39",
   "metadata": {},
   "source": [
    "#### Cobertura de identificación de cliente"
   ]
  },
  {
   "cell_type": "code",
   "execution_count": 16,
   "id": "f40ed72d",
   "metadata": {},
   "outputs": [
    {
     "name": "stdout",
     "output_type": "stream",
     "text": [
      "Match visitorid → cliente.id por tipo de evento\n"
     ]
    },
    {
     "data": {
      "text/html": [
       "<div>\n",
       "<style scoped>\n",
       "    .dataframe tbody tr th:only-of-type {\n",
       "        vertical-align: middle;\n",
       "    }\n",
       "\n",
       "    .dataframe tbody tr th {\n",
       "        vertical-align: top;\n",
       "    }\n",
       "\n",
       "    .dataframe thead th {\n",
       "        text-align: right;\n",
       "    }\n",
       "</style>\n",
       "<table border=\"1\" class=\"dataframe\">\n",
       "  <thead>\n",
       "    <tr style=\"text-align: right;\">\n",
       "      <th></th>\n",
       "      <th>total</th>\n",
       "      <th>matches</th>\n",
       "      <th>non_matches</th>\n",
       "      <th>pct_match</th>\n",
       "    </tr>\n",
       "    <tr>\n",
       "      <th>event</th>\n",
       "      <th></th>\n",
       "      <th></th>\n",
       "      <th></th>\n",
       "      <th></th>\n",
       "    </tr>\n",
       "  </thead>\n",
       "  <tbody>\n",
       "    <tr>\n",
       "      <th>transaction</th>\n",
       "      <td>22,457</td>\n",
       "      <td>22,457</td>\n",
       "      <td>0</td>\n",
       "      <td>100.00%</td>\n",
       "    </tr>\n",
       "    <tr>\n",
       "      <th>addtocart</th>\n",
       "      <td>69,332</td>\n",
       "      <td>27,467</td>\n",
       "      <td>41,865</td>\n",
       "      <td>39.62%</td>\n",
       "    </tr>\n",
       "    <tr>\n",
       "      <th>view</th>\n",
       "      <td>2,664,312</td>\n",
       "      <td>180,754</td>\n",
       "      <td>2,483,558</td>\n",
       "      <td>6.78%</td>\n",
       "    </tr>\n",
       "  </tbody>\n",
       "</table>\n",
       "</div>"
      ],
      "text/plain": [
       "                 total  matches non_matches pct_match\n",
       "event                                                \n",
       "transaction     22,457   22,457           0   100.00%\n",
       "addtocart       69,332   27,467      41,865    39.62%\n",
       "view         2,664,312  180,754   2,483,558     6.78%"
      ]
     },
     "metadata": {},
     "output_type": "display_data"
    }
   ],
   "source": [
    "# Conversión a numérico\n",
    "visitorid = pd.to_numeric(df_evento[\"visitorid\"], errors=\"coerce\")\n",
    "client_ids = set(pd.to_numeric(df_cliente[\"id\"], errors=\"coerce\").dropna().astype(int))\n",
    "\n",
    "# Marcar match/no match\n",
    "df_evento[\"has_client_match\"] = visitorid.astype(\"Int64\").isin(client_ids)\n",
    "\n",
    "# Resumen por tipo de evento\n",
    "summary_client = (\n",
    "    # Agrupación por tipo de evento\n",
    "    df_evento.groupby(\"event\")[\"has_client_match\"]\n",
    "    .agg(total=\"size\", matches=\"sum\")\n",
    "    .assign(\n",
    "        non_matches=lambda d: d[\"total\"] - d[\"matches\"], # No coinciden\n",
    "        pct_match=lambda d: (d[\"matches\"] / d[\"total\"] * 100).round(2) # Porcentaje de coincidencias\n",
    "    )\n",
    "    .sort_values(\"pct_match\", ascending=False) # Ordenar por porcentaje de coincidencias\n",
    ")\n",
    "\n",
    "# Formato de resumen\n",
    "summary_fmt_client = summary_client.copy()\n",
    "for col in [\"total\", \"matches\", \"non_matches\"]:\n",
    "    summary_fmt_client[col] = summary_fmt_client[col].map(lambda x: f\"{x:,}\")\n",
    "summary_fmt_client[\"pct_match\"] = summary_client[\"pct_match\"].map(lambda x: f\"{x:.2f}%\")\n",
    "\n",
    "print(\"Match visitorid → cliente.id por tipo de evento\")\n",
    "display(summary_fmt_client)"
   ]
  },
  {
   "cell_type": "markdown",
   "id": "ea9cf51f",
   "metadata": {},
   "source": [
    "**Resumen de resultados:**\n",
    "\n",
    "* **Producto → Categoría** y **Producto → Marca**: 100 % de coincidencia, sin faltantes en las relaciones.\n",
    "* **Evento → Producto**: Solo **33.16 %** de coincidencia. Hay más de **1.84 millones** de `itemid` sin correspondencia en catálogo, distribuidos principalmente en eventos de tipo `view` (31.63 % de match) y `addtocart` (70.33 % de match).\n",
    "* **Evento → Cliente**: Coincidencia extremadamente baja (**8.37 %**), con más de **2.52 millones** de `visitorid` sin correspondencia. El match es completo solo en `transaction` (100 %), moderado en `addtocart` (39.62 %) y muy bajo en `view` (6.78 %).\n",
    "* Se detectaron **223,036** `itemid` distintos que no existen en el catálogo de productos."
   ]
  },
  {
   "cell_type": "markdown",
   "id": "5c9c13b1",
   "metadata": {},
   "source": [
    "**Conclusión y acciones recomendadas:**\n",
    "* El bajo porcentaje de match en `Evento → Producto` y `Evento → Cliente` indica problemas de integridad referencial en los datos de navegación y carritos, probablemente por visitantes anónimos o productos fuera de catálogo.\n",
    "* Se recomienda:\n",
    "\n",
    "  1. Analizar si los `itemid` fuera de catálogo corresponden a productos antiguos, descontinuados o datos erróneos, y decidir si deben incorporarse al catálogo histórico o excluirse del análisis.\n",
    "  2. Evaluar cómo tratar los `visitorid` sin correspondencia: etiquetarlos como \"anónimo\" o excluirlos según el objetivo del análisis.\n",
    "  3. Mantener la integridad de relaciones en eventos de tipo `transaction`, ya que ahí sí se observa consistencia total.\n"
   ]
  },
  {
   "cell_type": "markdown",
   "id": "8e7442fd",
   "metadata": {},
   "source": [
    "## Estadísticas y Distribuciones"
   ]
  },
  {
   "cell_type": "markdown",
   "id": "dbb7c37a",
   "metadata": {},
   "source": [
    "### Producto"
   ]
  },
  {
   "cell_type": "markdown",
   "id": "c6b36b7c",
   "metadata": {},
   "source": [
    "#### Precio"
   ]
  },
  {
   "cell_type": "code",
   "execution_count": 17,
   "id": "d05d9f10",
   "metadata": {},
   "outputs": [
    {
     "name": "stdout",
     "output_type": "stream",
     "text": [
      "Precio - estadísticas:\n"
     ]
    },
    {
     "data": {
      "text/plain": [
       "count    12020.000000\n",
       "mean        38.770502\n",
       "std        309.980074\n",
       "min          0.000000\n",
       "25%          8.250000\n",
       "50%         14.250000\n",
       "75%         25.500000\n",
       "max       9702.000000\n",
       "Name: precio, dtype: float64"
      ]
     },
     "metadata": {},
     "output_type": "display_data"
    },
    {
     "data": {
      "image/png": "[encoded data removed]",
      "text/plain": [
       "<Figure size 600x400 with 1 Axes>"
      ]
     },
     "metadata": {},
     "output_type": "display_data"
    }
   ],
   "source": [
    "# Preprocesamiento\n",
    "df_producto[\"precio\"] = pd.to_numeric(df_producto[\"precio\"], errors=\"coerce\")\n",
    "\n",
    "# Estadísticas\n",
    "print(\"Precio - estadísticas:\")\n",
    "display(df_producto[\"precio\"].describe())\n",
    "\n",
    "# Gráfico\n",
    "plt.figure(figsize=(6,4))\n",
    "sns.histplot(df_producto[\"precio\"].dropna(), bins=30, kde=True, stat=\"count\", color=\"lightblue\", edgecolor=\"black\")\n",
    "plt.title(\"Distribución de precios\")\n",
    "plt.xlabel(\"Precio\")\n",
    "plt.ylabel(\"Frecuencia\")\n",
    "plt.show()"
   ]
  },
  {
   "cell_type": "markdown",
   "id": "44c9bdc2",
   "metadata": {},
   "source": [
    "El análisis de precios muestra una media de **38.77** con una desviación estándar muy alta (**309.98**), lo que indica la presencia de valores atípicos extremos. El 75% de los productos tienen precios iguales o menores a **25.50**, mientras que el precio máximo alcanza **9702**, generando una distribución fuertemente sesgada a la derecha."
   ]
  },
  {
   "cell_type": "markdown",
   "id": "85984f75",
   "metadata": {},
   "source": [
    "#### Volumen"
   ]
  },
  {
   "cell_type": "code",
   "execution_count": 18,
   "id": "61c68e37",
   "metadata": {},
   "outputs": [
    {
     "name": "stdout",
     "output_type": "stream",
     "text": [
      "Volumen - estadísticas:\n"
     ]
    },
    {
     "data": {
      "text/plain": [
       "count     12026.000000\n",
       "mean       1033.562448\n",
       "std        4717.072506\n",
       "min           0.000000\n",
       "25%         750.000000\n",
       "50%         750.000000\n",
       "75%         750.000000\n",
       "max      225000.000000\n",
       "Name: volumen, dtype: float64"
      ]
     },
     "metadata": {},
     "output_type": "display_data"
    },
    {
     "data": {
      "image/png": "[encoded data removed]",
      "text/plain": [
       "<Figure size 600x400 with 1 Axes>"
      ]
     },
     "metadata": {},
     "output_type": "display_data"
    }
   ],
   "source": [
    "# Preprocesamiento\n",
    "df_producto[\"volumen\"] = pd.to_numeric(df_producto[\"volumen\"], errors=\"coerce\")\n",
    "\n",
    "# Estadísticas\n",
    "print(\"Volumen - estadísticas:\")\n",
    "display(df_producto[\"volumen\"].describe())\n",
    "\n",
    "# Gráfico\n",
    "plt.figure(figsize=(6,4))\n",
    "sns.histplot(df_producto[\"volumen\"].dropna(), bins=30, kde=True, stat=\"count\", color=\"lightgreen\", edgecolor=\"black\")\n",
    "plt.title(\"Distribución de volúmenes (ml)\")\n",
    "plt.xlabel(\"Volumen (ml)\")\n",
    "plt.ylabel(\"Frecuencia\")\n",
    "plt.show()"
   ]
  },
  {
   "cell_type": "markdown",
   "id": "ddc3ad1d",
   "metadata": {},
   "source": [
    "En cuanto al volumen (ml), la mediana y el tercer cuartil están en **750 ml**, lo que sugiere que este tamaño es el estándar predominante. Sin embargo, el valor máximo es **225,000 ml**, muy por encima de la media (**1033.56 ml**) y la desviación estándar (**4717.07 ml**), lo que confirma la existencia de valores atípicos significativos que distorsionan la escala del gráfico."
   ]
  },
  {
   "cell_type": "markdown",
   "id": "1f241fd3",
   "metadata": {},
   "source": [
    "#### Top categorías"
   ]
  },
  {
   "cell_type": "code",
   "execution_count": 19,
   "id": "ca474ae9",
   "metadata": {},
   "outputs": [
    {
     "name": "stdout",
     "output_type": "stream",
     "text": [
      "Top 10 categorías por cantidad de productos:\n"
     ]
    },
    {
     "data": {
      "text/html": [
       "<div>\n",
       "<style scoped>\n",
       "    .dataframe tbody tr th:only-of-type {\n",
       "        vertical-align: middle;\n",
       "    }\n",
       "\n",
       "    .dataframe tbody tr th {\n",
       "        vertical-align: top;\n",
       "    }\n",
       "\n",
       "    .dataframe thead th {\n",
       "        text-align: right;\n",
       "    }\n",
       "</style>\n",
       "<table border=\"1\" class=\"dataframe\">\n",
       "  <thead>\n",
       "    <tr style=\"text-align: right;\">\n",
       "      <th></th>\n",
       "      <th>conteo</th>\n",
       "    </tr>\n",
       "    <tr>\n",
       "      <th>categoria_nombre</th>\n",
       "      <th></th>\n",
       "    </tr>\n",
       "  </thead>\n",
       "  <tbody>\n",
       "    <tr>\n",
       "      <th>DECANTERS &amp; SPECIALTY PACKAGES</th>\n",
       "      <td>943</td>\n",
       "    </tr>\n",
       "    <tr>\n",
       "      <th>VODKA FLAVORED</th>\n",
       "      <td>711</td>\n",
       "    </tr>\n",
       "    <tr>\n",
       "      <th>IMPORTED ALE</th>\n",
       "      <td>668</td>\n",
       "    </tr>\n",
       "    <tr>\n",
       "      <th>MISC. IMPORTED CORDIALS &amp; LIQUEURS</th>\n",
       "      <td>621</td>\n",
       "    </tr>\n",
       "    <tr>\n",
       "      <th>TEQUILA</th>\n",
       "      <td>597</td>\n",
       "    </tr>\n",
       "    <tr>\n",
       "      <th>SCOTCH WHISKIES</th>\n",
       "      <td>515</td>\n",
       "    </tr>\n",
       "    <tr>\n",
       "      <th>IMPORTED VODKA</th>\n",
       "      <td>495</td>\n",
       "    </tr>\n",
       "    <tr>\n",
       "      <th>STRAIGHT BOURBON WHISKIES</th>\n",
       "      <td>468</td>\n",
       "    </tr>\n",
       "    <tr>\n",
       "      <th>AMERICAN COCKTAILS</th>\n",
       "      <td>456</td>\n",
       "    </tr>\n",
       "    <tr>\n",
       "      <th>SINGLE MALT SCOTCH</th>\n",
       "      <td>433</td>\n",
       "    </tr>\n",
       "  </tbody>\n",
       "</table>\n",
       "</div>"
      ],
      "text/plain": [
       "                                    conteo\n",
       "categoria_nombre                          \n",
       "DECANTERS & SPECIALTY PACKAGES         943\n",
       "VODKA FLAVORED                         711\n",
       "IMPORTED ALE                           668\n",
       "MISC. IMPORTED CORDIALS & LIQUEURS     621\n",
       "TEQUILA                                597\n",
       "SCOTCH WHISKIES                        515\n",
       "IMPORTED VODKA                         495\n",
       "STRAIGHT BOURBON WHISKIES              468\n",
       "AMERICAN COCKTAILS                     456\n",
       "SINGLE MALT SCOTCH                     433"
      ]
     },
     "metadata": {},
     "output_type": "display_data"
    },
    {
     "data": {
      "image/png": "[encoded data removed]",
      "text/plain": [
       "<Figure size 600x400 with 1 Axes>"
      ]
     },
     "metadata": {},
     "output_type": "display_data"
    }
   ],
   "source": [
    "# Merge para agregar el nombre de la categoría\n",
    "df_producto_cat = df_producto.merge(\n",
    "    df_categoria.rename(columns={\"id\": \"categoria_id\", \"categoria\": \"categoria_nombre\"}),\n",
    "    on=\"categoria_id\",\n",
    "    how=\"left\"\n",
    ")\n",
    "\n",
    "# Top categorías por cantidad de productos (con nombre)\n",
    "top_categorias = (\n",
    "    df_producto_cat[\"categoria_nombre\"]\n",
    "    .value_counts()\n",
    "    .head(10)\n",
    ")\n",
    "\n",
    "# Tabla\n",
    "print(\"Top 10 categorías por cantidad de productos:\")\n",
    "display(top_categorias.to_frame(\"conteo\"))\n",
    "\n",
    "# Gráfico\n",
    "plt.figure(figsize=(6,4))\n",
    "top_categorias.plot(kind=\"bar\", title=\"Top 10 categorías (por cantidad de productos)\")\n",
    "plt.ylabel(\"Cantidad de productos\")\n",
    "plt.xlabel(\"Categoría\")\n",
    "plt.show()"
   ]
  },
  {
   "cell_type": "markdown",
   "id": "f9233773",
   "metadata": {},
   "source": [
    "Las categorías con mayor cantidad de productos incluyen principalmente bebidas alcohólicas premium e importadas, lideradas por **Decanters & Specialty Packages** (943 productos), **Vodka Flavored** (711) e **Imported Ale** (668)."
   ]
  },
  {
   "cell_type": "markdown",
   "id": "d9fb61f0",
   "metadata": {},
   "source": [
    "#### Top Marcas"
   ]
  },
  {
   "cell_type": "code",
   "execution_count": 20,
   "id": "e3148a8c",
   "metadata": {},
   "outputs": [
    {
     "name": "stdout",
     "output_type": "stream",
     "text": [
      "Top 10 marcas por cantidad de productos:\n"
     ]
    },
    {
     "data": {
      "text/html": [
       "<div>\n",
       "<style scoped>\n",
       "    .dataframe tbody tr th:only-of-type {\n",
       "        vertical-align: middle;\n",
       "    }\n",
       "\n",
       "    .dataframe tbody tr th {\n",
       "        vertical-align: top;\n",
       "    }\n",
       "\n",
       "    .dataframe thead th {\n",
       "        text-align: right;\n",
       "    }\n",
       "</style>\n",
       "<table border=\"1\" class=\"dataframe\">\n",
       "  <thead>\n",
       "    <tr style=\"text-align: right;\">\n",
       "      <th></th>\n",
       "      <th>conteo</th>\n",
       "    </tr>\n",
       "    <tr>\n",
       "      <th>marca_nombre</th>\n",
       "      <th></th>\n",
       "    </tr>\n",
       "  </thead>\n",
       "  <tbody>\n",
       "    <tr>\n",
       "      <th>Diageo Americas</th>\n",
       "      <td>1022</td>\n",
       "    </tr>\n",
       "    <tr>\n",
       "      <th>Jim Beam Brands</th>\n",
       "      <td>1007</td>\n",
       "    </tr>\n",
       "    <tr>\n",
       "      <th>Pernod Ricard USA/Austin Nichols</th>\n",
       "      <td>640</td>\n",
       "    </tr>\n",
       "    <tr>\n",
       "      <th>Yahara Bay Distillers, Inc</th>\n",
       "      <td>633</td>\n",
       "    </tr>\n",
       "    <tr>\n",
       "      <th>Heaven Hill Brands</th>\n",
       "      <td>448</td>\n",
       "    </tr>\n",
       "    <tr>\n",
       "      <th>Luxco-St Louis</th>\n",
       "      <td>433</td>\n",
       "    </tr>\n",
       "    <tr>\n",
       "      <th>Sazerac Co., Inc.</th>\n",
       "      <td>397</td>\n",
       "    </tr>\n",
       "    <tr>\n",
       "      <th>Bacardi U.S.A., Inc.</th>\n",
       "      <td>387</td>\n",
       "    </tr>\n",
       "    <tr>\n",
       "      <th>MHW Ltd</th>\n",
       "      <td>316</td>\n",
       "    </tr>\n",
       "    <tr>\n",
       "      <th>Sazerac North America</th>\n",
       "      <td>292</td>\n",
       "    </tr>\n",
       "  </tbody>\n",
       "</table>\n",
       "</div>"
      ],
      "text/plain": [
       "                                  conteo\n",
       "marca_nombre                            \n",
       "Diageo Americas                     1022\n",
       "Jim Beam Brands                     1007\n",
       "Pernod Ricard USA/Austin Nichols     640\n",
       "Yahara Bay Distillers, Inc           633\n",
       "Heaven Hill Brands                   448\n",
       "Luxco-St Louis                       433\n",
       "Sazerac Co., Inc.                    397\n",
       "Bacardi U.S.A., Inc.                 387\n",
       "MHW Ltd                              316\n",
       "Sazerac North America                292"
      ]
     },
     "metadata": {},
     "output_type": "display_data"
    },
    {
     "data": {
      "image/png": "[encoded data removed]",
      "text/plain": [
       "<Figure size 600x400 with 1 Axes>"
      ]
     },
     "metadata": {},
     "output_type": "display_data"
    }
   ],
   "source": [
    "# Merge para agregar el nombre de la marca\n",
    "df_producto_marca = df_producto.merge(\n",
    "    df_marca.rename(columns={\"id\": \"marca_id\", \"marca\": \"marca_nombre\"}),\n",
    "    on=\"marca_id\",\n",
    "    how=\"left\"\n",
    ")\n",
    "\n",
    "# Top marcas por cantidad de productos (con nombre)\n",
    "top_marcas = (\n",
    "    df_producto_marca[\"marca_nombre\"]\n",
    "    .value_counts()\n",
    "    .head(10)\n",
    ")\n",
    "\n",
    "# Tabla\n",
    "print(\"Top 10 marcas por cantidad de productos:\")\n",
    "display(top_marcas.to_frame(\"conteo\"))\n",
    "\n",
    "# Gráfico\n",
    "plt.figure(figsize=(6,4))\n",
    "top_marcas.plot(kind=\"bar\", title=\"Top 10 marcas (por cantidad de productos)\")\n",
    "plt.ylabel(\"Cantidad de productos\")\n",
    "plt.xlabel(\"Marca\")\n",
    "plt.show()"
   ]
  },
  {
   "cell_type": "markdown",
   "id": "80188873",
   "metadata": {},
   "source": [
    "Las marcas más representadas en el catálogo son **Diageo Americas** (1022 productos) y **Jim Beam Brands** (1007), seguidas de otras como **Pernod Ricard USA/Austin Nichols** (640) y **Yahara Bay Distillers, Inc** (633), lo que refleja una alta concentración en unas pocas marcas líderes."
   ]
  },
  {
   "cell_type": "markdown",
   "id": "724be304",
   "metadata": {},
   "source": [
    "**Conclusión y acciones sugeridas**\n",
    "Las distribuciones tanto de precios como de volúmenes presentan **outliers extremos** que podrían afectar los análisis posteriores. Se recomienda evaluar la pertinencia de filtrar o transformar estos valores para obtener visualizaciones y métricas más representativas. Asimismo, conocer las marcas y categorías más frecuentes ayuda a priorizar el análisis en productos de mayor relevancia comercial."
   ]
  },
  {
   "cell_type": "markdown",
   "id": "8095bb68",
   "metadata": {},
   "source": [
    "### Cliente"
   ]
  },
  {
   "cell_type": "markdown",
   "id": "8bc1a36b",
   "metadata": {},
   "source": [
    "#### Edad"
   ]
  },
  {
   "cell_type": "code",
   "execution_count": 21,
   "id": "bd2ecc9b",
   "metadata": {},
   "outputs": [
    {
     "name": "stdout",
     "output_type": "stream",
     "text": [
      "Edad - estadísticas:\n"
     ]
    },
    {
     "data": {
      "text/plain": [
       "count    11719.000000\n",
       "mean        21.381603\n",
       "std         26.958812\n",
       "min        -43.000000\n",
       "25%         26.000000\n",
       "50%         31.000000\n",
       "75%         37.000000\n",
       "max         57.000000\n",
       "Name: edad, dtype: float64"
      ]
     },
     "metadata": {},
     "output_type": "display_data"
    },
    {
     "data": {
      "image/png": "[encoded data removed]",
      "text/plain": [
       "<Figure size 600x400 with 1 Axes>"
      ]
     },
     "metadata": {},
     "output_type": "display_data"
    }
   ],
   "source": [
    "# Preprocesamiento\n",
    "df_cliente[\"nacimiento\"] = pd.to_datetime(\n",
    "    df_cliente[\"nacimiento\"],\n",
    "    format=\"%m/%d/%y\",  # mes/día/año\n",
    "    errors=\"coerce\"\n",
    ")\n",
    "today = pd.Timestamp.today()\n",
    "df_cliente[\"edad\"] = ((today - df_cliente[\"nacimiento\"]).dt.days / 365.25).round()\n",
    "\n",
    "# Estadísticas\n",
    "print(\"Edad - estadísticas:\")\n",
    "display(df_cliente[\"edad\"].describe())\n",
    "\n",
    "# Gráfico\n",
    "\n",
    "plt.figure(figsize=(6,4))\n",
    "# Histograma de edad\n",
    "sns.histplot(df_cliente[\"edad\"].dropna(), bins=30, kde=True, stat=\"count\", color=\"skyblue\", edgecolor=\"black\")\n",
    "\n",
    "plt.title(\"Distribución de edad\")\n",
    "plt.xlabel(\"Edad\")\n",
    "plt.ylabel(\"Frecuencia\")\n",
    "plt.show()"
   ]
  },
  {
   "cell_type": "code",
   "execution_count": 22,
   "id": "f9944e70",
   "metadata": {},
   "outputs": [
    {
     "name": "stdout",
     "output_type": "stream",
     "text": [
      "Rango de fechas de nacimiento:\n",
      "1969-01-04 00:00:00 → 2068-12-26 00:00:00\n"
     ]
    },
    {
     "data": {
      "image/png": "[encoded data removed]",
      "text/plain": [
       "<Figure size 600x400 with 1 Axes>"
      ]
     },
     "metadata": {},
     "output_type": "display_data"
    }
   ],
   "source": [
    "# Ver las fechas mínimas y máximas\n",
    "print(\"Rango de fechas de nacimiento:\")\n",
    "print(df_cliente[\"nacimiento\"].min(), \"→\", df_cliente[\"nacimiento\"].max())\n",
    "\n",
    "# Graficar distribución de nacimientos\n",
    "plt.figure(figsize=(6,4))\n",
    "sns.histplot(df_cliente[\"nacimiento\"].dropna(), bins=30, kde=False, color=\"orange\", edgecolor=\"black\")\n",
    "plt.title(\"Distribución de fechas de nacimiento\")\n",
    "plt.xlabel(\"Fecha de nacimiento\")\n",
    "plt.ylabel(\"Frecuencia\")\n",
    "plt.show()"
   ]
  },
  {
   "cell_type": "markdown",
   "id": "06e6c6b6",
   "metadata": {},
   "source": [
    "**Edad (problema detectado):** media 21.38 y presencia de **edades negativas** (mín = −43). El histograma y el rango de nacimientos (1969 → **2068**) confirman **fechas en el futuro** por interpretación de **años de 2 dígitos**."
   ]
  },
  {
   "cell_type": "markdown",
   "id": "7f35ddf8",
   "metadata": {},
   "source": [
    "#### Género"
   ]
  },
  {
   "cell_type": "code",
   "execution_count": 23,
   "id": "1759625b",
   "metadata": {},
   "outputs": [
    {
     "name": "stdout",
     "output_type": "stream",
     "text": [
      "Distribución por género:\n"
     ]
    },
    {
     "data": {
      "text/html": [
       "<div>\n",
       "<style scoped>\n",
       "    .dataframe tbody tr th:only-of-type {\n",
       "        vertical-align: middle;\n",
       "    }\n",
       "\n",
       "    .dataframe tbody tr th {\n",
       "        vertical-align: top;\n",
       "    }\n",
       "\n",
       "    .dataframe thead th {\n",
       "        text-align: right;\n",
       "    }\n",
       "</style>\n",
       "<table border=\"1\" class=\"dataframe\">\n",
       "  <thead>\n",
       "    <tr style=\"text-align: right;\">\n",
       "      <th></th>\n",
       "      <th>conteo</th>\n",
       "    </tr>\n",
       "    <tr>\n",
       "      <th>genero</th>\n",
       "      <th></th>\n",
       "    </tr>\n",
       "  </thead>\n",
       "  <tbody>\n",
       "    <tr>\n",
       "      <th>Female</th>\n",
       "      <td>5895</td>\n",
       "    </tr>\n",
       "    <tr>\n",
       "      <th>Male</th>\n",
       "      <td>5824</td>\n",
       "    </tr>\n",
       "    <tr>\n",
       "      <th>NaN</th>\n",
       "      <td>281</td>\n",
       "    </tr>\n",
       "  </tbody>\n",
       "</table>\n",
       "</div>"
      ],
      "text/plain": [
       "        conteo\n",
       "genero        \n",
       "Female    5895\n",
       "Male      5824\n",
       "NaN        281"
      ]
     },
     "metadata": {},
     "output_type": "display_data"
    },
    {
     "data": {
      "image/png": "[encoded data removed]",
      "text/plain": [
       "<Figure size 600x400 with 1 Axes>"
      ]
     },
     "metadata": {},
     "output_type": "display_data"
    }
   ],
   "source": [
    "# Preprocesamiento\n",
    "genero_counts = df_cliente[\"genero\"].value_counts(dropna=False)\n",
    "\n",
    "# Estadísticas\n",
    "print(\"Distribución por género:\")\n",
    "display(genero_counts.to_frame(\"conteo\"))\n",
    "\n",
    "# Gráfico\n",
    "plt.figure(figsize=(6,4))\n",
    "genero_counts.plot(kind=\"bar\", title=\"Distribución por género\")\n",
    "plt.ylabel(\"Cantidad de clientes\")\n",
    "plt.xlabel(\"Género\")\n",
    "plt.xticks(rotation=45)\n",
    "plt.show()"
   ]
  },
  {
   "cell_type": "markdown",
   "id": "20dcadbe",
   "metadata": {},
   "source": [
    "**Género:** distribución equilibrada (*Female* 5,895 / *Male* 5,824) y **281 nulos**, consistente con los 281 registros completamente nulos que ya vimos en la tabla `cliente`."
   ]
  },
  {
   "cell_type": "markdown",
   "id": "ad241b44",
   "metadata": {},
   "source": [
    "#### Top Idiomas"
   ]
  },
  {
   "cell_type": "code",
   "execution_count": 24,
   "id": "e847a2fe",
   "metadata": {},
   "outputs": [
    {
     "name": "stdout",
     "output_type": "stream",
     "text": [
      "Top 10 idiomas declarados:\n"
     ]
    },
    {
     "data": {
      "text/html": [
       "<div>\n",
       "<style scoped>\n",
       "    .dataframe tbody tr th:only-of-type {\n",
       "        vertical-align: middle;\n",
       "    }\n",
       "\n",
       "    .dataframe tbody tr th {\n",
       "        vertical-align: top;\n",
       "    }\n",
       "\n",
       "    .dataframe thead th {\n",
       "        text-align: right;\n",
       "    }\n",
       "</style>\n",
       "<table border=\"1\" class=\"dataframe\">\n",
       "  <thead>\n",
       "    <tr style=\"text-align: right;\">\n",
       "      <th></th>\n",
       "      <th>conteo</th>\n",
       "    </tr>\n",
       "    <tr>\n",
       "      <th>idioma</th>\n",
       "      <th></th>\n",
       "    </tr>\n",
       "  </thead>\n",
       "  <tbody>\n",
       "    <tr>\n",
       "      <th>Mongolian</th>\n",
       "      <td>143</td>\n",
       "    </tr>\n",
       "    <tr>\n",
       "      <th>Dutch</th>\n",
       "      <td>141</td>\n",
       "    </tr>\n",
       "    <tr>\n",
       "      <th>Hungarian</th>\n",
       "      <td>140</td>\n",
       "    </tr>\n",
       "    <tr>\n",
       "      <th>Malayalam</th>\n",
       "      <td>138</td>\n",
       "    </tr>\n",
       "    <tr>\n",
       "      <th>Papiamento</th>\n",
       "      <td>138</td>\n",
       "    </tr>\n",
       "    <tr>\n",
       "      <th>Finnish</th>\n",
       "      <td>137</td>\n",
       "    </tr>\n",
       "    <tr>\n",
       "      <th>Nepali</th>\n",
       "      <td>136</td>\n",
       "    </tr>\n",
       "    <tr>\n",
       "      <th>Maltese</th>\n",
       "      <td>135</td>\n",
       "    </tr>\n",
       "    <tr>\n",
       "      <th>Bosnian</th>\n",
       "      <td>135</td>\n",
       "    </tr>\n",
       "    <tr>\n",
       "      <th>Quechua</th>\n",
       "      <td>135</td>\n",
       "    </tr>\n",
       "  </tbody>\n",
       "</table>\n",
       "</div>"
      ],
      "text/plain": [
       "            conteo\n",
       "idioma            \n",
       "Mongolian      143\n",
       "Dutch          141\n",
       "Hungarian      140\n",
       "Malayalam      138\n",
       "Papiamento     138\n",
       "Finnish        137\n",
       "Nepali         136\n",
       "Maltese        135\n",
       "Bosnian        135\n",
       "Quechua        135"
      ]
     },
     "metadata": {},
     "output_type": "display_data"
    },
    {
     "data": {
      "image/png": "[encoded data removed]",
      "text/plain": [
       "<Figure size 600x400 with 1 Axes>"
      ]
     },
     "metadata": {},
     "output_type": "display_data"
    }
   ],
   "source": [
    "# Preprocesamiento\n",
    "idioma_counts = df_cliente[\"idioma\"].value_counts().head(10)\n",
    "\n",
    "# Estadísticas\n",
    "print(\"Top 10 idiomas declarados:\")\n",
    "display(idioma_counts.to_frame(\"conteo\"))\n",
    "\n",
    "# Gráfico\n",
    "plt.figure(figsize=(6,4))\n",
    "idioma_counts.plot(kind=\"bar\", title=\"Top 10 idiomas declarados\")\n",
    "plt.ylabel(\"Cantidad de clientes\")\n",
    "plt.xlabel(\"Idioma\")\n",
    "plt.xticks(rotation=45)\n",
    "plt.show()"
   ]
  },
  {
   "cell_type": "markdown",
   "id": "f654bf80",
   "metadata": {},
   "source": [
    "**Idiomas (Top 10):** alta dispersión (p. ej., Mongolian 143, Dutch 141…), típico de datos sintéticos/heterogéneos tras una expansión internacional."
   ]
  },
  {
   "cell_type": "markdown",
   "id": "a5299c2b",
   "metadata": {},
   "source": [
    "#### Top Ciudades"
   ]
  },
  {
   "cell_type": "code",
   "execution_count": 25,
   "id": "09319dd5",
   "metadata": {},
   "outputs": [
    {
     "name": "stdout",
     "output_type": "stream",
     "text": [
      "Top 10 ciudades declaradas:\n"
     ]
    },
    {
     "data": {
      "text/html": [
       "<div>\n",
       "<style scoped>\n",
       "    .dataframe tbody tr th:only-of-type {\n",
       "        vertical-align: middle;\n",
       "    }\n",
       "\n",
       "    .dataframe tbody tr th {\n",
       "        vertical-align: top;\n",
       "    }\n",
       "\n",
       "    .dataframe thead th {\n",
       "        text-align: right;\n",
       "    }\n",
       "</style>\n",
       "<table border=\"1\" class=\"dataframe\">\n",
       "  <thead>\n",
       "    <tr style=\"text-align: right;\">\n",
       "      <th></th>\n",
       "      <th>conteo</th>\n",
       "    </tr>\n",
       "    <tr>\n",
       "      <th>ciudad</th>\n",
       "      <th></th>\n",
       "    </tr>\n",
       "  </thead>\n",
       "  <tbody>\n",
       "    <tr>\n",
       "      <th>Stockholm</th>\n",
       "      <td>22</td>\n",
       "    </tr>\n",
       "    <tr>\n",
       "      <th>GÌ¦teborg</th>\n",
       "      <td>17</td>\n",
       "    </tr>\n",
       "    <tr>\n",
       "      <th>Oslo</th>\n",
       "      <td>17</td>\n",
       "    </tr>\n",
       "    <tr>\n",
       "      <th>San Francisco</th>\n",
       "      <td>10</td>\n",
       "    </tr>\n",
       "    <tr>\n",
       "      <th>San Isidro</th>\n",
       "      <td>9</td>\n",
       "    </tr>\n",
       "    <tr>\n",
       "      <th>Toledo</th>\n",
       "      <td>8</td>\n",
       "    </tr>\n",
       "    <tr>\n",
       "      <th>ÌÐrebro</th>\n",
       "      <td>8</td>\n",
       "    </tr>\n",
       "    <tr>\n",
       "      <th>Helsingborg</th>\n",
       "      <td>8</td>\n",
       "    </tr>\n",
       "    <tr>\n",
       "      <th>Toulouse</th>\n",
       "      <td>7</td>\n",
       "    </tr>\n",
       "    <tr>\n",
       "      <th>OrlÌ©ans</th>\n",
       "      <td>7</td>\n",
       "    </tr>\n",
       "  </tbody>\n",
       "</table>\n",
       "</div>"
      ],
      "text/plain": [
       "               conteo\n",
       "ciudad               \n",
       "Stockholm          22\n",
       "GÌ¦teborg          17\n",
       "Oslo               17\n",
       "San Francisco      10\n",
       "San Isidro          9\n",
       "Toledo              8\n",
       "ÌÐrebro             8\n",
       "Helsingborg         8\n",
       "Toulouse            7\n",
       "OrlÌ©ans            7"
      ]
     },
     "metadata": {},
     "output_type": "display_data"
    },
    {
     "data": {
      "image/png": "[encoded data removed]",
      "text/plain": [
       "<Figure size 600x400 with 1 Axes>"
      ]
     },
     "metadata": {},
     "output_type": "display_data"
    }
   ],
   "source": [
    "# Preprocesamiento\n",
    "ciudad_counts = df_cliente[\"ciudad\"].value_counts().head(10)\n",
    "\n",
    "# Top 10 ciudades\n",
    "print(\"Top 10 ciudades declaradas:\")\n",
    "display(ciudad_counts.to_frame(\"conteo\"))\n",
    "\n",
    "# Gráfico\n",
    "plt.figure(figsize=(6,4))\n",
    "ciudad_counts.plot(kind=\"bar\", title=\"Top 10 ciudades declaradas\")\n",
    "plt.ylabel(\"Cantidad de clientes\")\n",
    "plt.xlabel(\"Ciudad\")\n",
    "plt.xticks(rotation=45)\n",
    "plt.show()"
   ]
  },
  {
   "cell_type": "markdown",
   "id": "32607b2d",
   "metadata": {},
   "source": [
    "**Ciudades (Top 10):** aparecen mojibake como `OrlÌ©ans` (debería ser **Orléans**), señal de **decodificación incorrecta** del archivo. La codificación de la data esta mezclada, es decir los datos sufrieron más de una codificación (mangled encoding)."
   ]
  },
  {
   "cell_type": "markdown",
   "id": "545b4eb5",
   "metadata": {},
   "source": [
    "**Conclusión y acciones (clientes):**\n",
    "\n",
    "1. **Fechas:** en el pipeline, corregir nacimiento cuando Pandas interpreta el siglo mal (si fecha > hoy → restar 100 años) o estandarizar `%m/%d/%y`/`%m/%d/%Y`.\n",
    "2. **PII nula:** decidir si los 281 registros “vacíos” se eliminan o se marcan como **anónimo**.\n",
    "3. **Codificación:** re-ingerir archivos con la codificación correcta (ver abajo) y **normalizar Unicode** para eliminar mojibake. Y si no funciona, aplicar un pipeline mas robusto de correccion."
   ]
  },
  {
   "cell_type": "markdown",
   "id": "a84d8229",
   "metadata": {},
   "source": [
    "### Evento"
   ]
  },
  {
   "cell_type": "markdown",
   "id": "2a5302b1",
   "metadata": {},
   "source": [
    "#### Tipos"
   ]
  },
  {
   "cell_type": "code",
   "execution_count": 26,
   "id": "4bff7107",
   "metadata": {},
   "outputs": [
    {
     "name": "stdout",
     "output_type": "stream",
     "text": [
      "Distribución por tipo de evento:\n"
     ]
    },
    {
     "data": {
      "text/html": [
       "<div>\n",
       "<style scoped>\n",
       "    .dataframe tbody tr th:only-of-type {\n",
       "        vertical-align: middle;\n",
       "    }\n",
       "\n",
       "    .dataframe tbody tr th {\n",
       "        vertical-align: top;\n",
       "    }\n",
       "\n",
       "    .dataframe thead th {\n",
       "        text-align: right;\n",
       "    }\n",
       "</style>\n",
       "<table border=\"1\" class=\"dataframe\">\n",
       "  <thead>\n",
       "    <tr style=\"text-align: right;\">\n",
       "      <th></th>\n",
       "      <th>conteo</th>\n",
       "    </tr>\n",
       "    <tr>\n",
       "      <th>event</th>\n",
       "      <th></th>\n",
       "    </tr>\n",
       "  </thead>\n",
       "  <tbody>\n",
       "    <tr>\n",
       "      <th>view</th>\n",
       "      <td>2664312</td>\n",
       "    </tr>\n",
       "    <tr>\n",
       "      <th>addtocart</th>\n",
       "      <td>69332</td>\n",
       "    </tr>\n",
       "    <tr>\n",
       "      <th>transaction</th>\n",
       "      <td>22457</td>\n",
       "    </tr>\n",
       "  </tbody>\n",
       "</table>\n",
       "</div>"
      ],
      "text/plain": [
       "              conteo\n",
       "event               \n",
       "view         2664312\n",
       "addtocart      69332\n",
       "transaction    22457"
      ]
     },
     "metadata": {},
     "output_type": "display_data"
    },
    {
     "data": {
      "image/png": "[encoded data removed]",
      "text/plain": [
       "<Figure size 600x400 with 1 Axes>"
      ]
     },
     "metadata": {},
     "output_type": "display_data"
    }
   ],
   "source": [
    "# Preprocesamiento\n",
    "event_counts = df_evento[\"event\"].value_counts()\n",
    "\n",
    "# Estadísticas\n",
    "print(\"Distribución por tipo de evento:\")\n",
    "display(event_counts.to_frame(\"conteo\"))\n",
    "\n",
    "# Gráfico\n",
    "plt.figure(figsize=(6,4))\n",
    "event_counts.plot(kind=\"bar\", title=\"Distribución por tipo de evento\")\n",
    "plt.ylabel(\"Cantidad de eventos\")\n",
    "plt.xlabel(\"Tipo de evento\")\n",
    "plt.xticks(rotation=45)\n",
    "plt.show()"
   ]
  },
  {
   "cell_type": "markdown",
   "id": "7e0982f3",
   "metadata": {},
   "source": [
    "* **Views** representan **\\~97% del total** (2,664,312 registros), indicando que la mayoría de interacciones son solo visualizaciones de productos.\n",
    "* **Add to cart**: 69,332 registros (\\~2.5%), lo que sugiere un bajo nivel de intención de compra comparado con visualizaciones.\n",
    "* **Transactions**: 22,457 registros (\\~0.8%), lo que refleja una conversión baja desde el total de interacciones."
   ]
  },
  {
   "cell_type": "markdown",
   "id": "446b9b78",
   "metadata": {},
   "source": [
    "#### Cantidad al día"
   ]
  },
  {
   "cell_type": "code",
   "execution_count": 27,
   "id": "b23e148b",
   "metadata": {},
   "outputs": [
    {
     "data": {
      "image/png": "[encoded data removed]",
      "text/plain": [
       "<Figure size 800x400 with 1 Axes>"
      ]
     },
     "metadata": {},
     "output_type": "display_data"
    }
   ],
   "source": [
    "# Preprocesamiento\n",
    "df_evento[\"ts\"] = pd.to_datetime(pd.to_numeric(df_evento[\"timestamp\"], errors=\"coerce\"), unit=\"ms\", errors=\"coerce\")\n",
    "eventos_por_dia = df_evento.groupby(df_evento[\"ts\"].dt.date).size()\n",
    "\n",
    "# Gráfico\n",
    "plt.figure(figsize=(8,4))\n",
    "eventos_por_dia.plot(kind=\"line\", title=\"Eventos por día\")\n",
    "plt.ylabel(\"Cantidad de eventos\")\n",
    "plt.xlabel(\"Fecha\")\n",
    "plt.xticks(rotation=45)\n",
    "plt.show()"
   ]
  },
  {
   "cell_type": "markdown",
   "id": "793f4616",
   "metadata": {},
   "source": [
    "* Entre mayo y septiembre de 2015, los eventos diarios muestran un patrón cíclico semanal, con picos recurrentes y caídas en fines de semana o días específicos.\n",
    "* Hay un pico atípico a finales de julio con más de **32,000 eventos en un día**, lo que podría estar relacionado con una campaña, lanzamiento o error en el registro.\n",
    "* Hacia mediados de septiembre se observa una caída abrupta, posiblemente por final del periodo de captura o fallas en recolección."
   ]
  },
  {
   "cell_type": "markdown",
   "id": "221633ed",
   "metadata": {},
   "source": [
    "**Conclusiones clave**\n",
    "\n",
    "* Existe una **gran brecha de conversión** entre vistas y compras.\n",
    "* Hay **problemas de integridad referencial** en datos de views y addtocart, lo que afectará análisis de embudo si no se corrige.\n",
    "* El pico de julio y la caída en septiembre deben investigarse para descartar errores de tracking.\n"
   ]
  }
 ],
 "metadata": {
  "kernelspec": {
   "display_name": "data_understanding",
   "language": "python",
   "name": "python3"
  },
  "language_info": {
   "codemirror_mode": {
    "name": "ipython",
    "version": 3
   },
   "file_extension": ".py",
   "mimetype": "text/x-python",
   "name": "python",
   "nbconvert_exporter": "python",
   "pygments_lexer": "ipython3",
   "version": "3.12.11"
  }
 },
 "nbformat": 4,
 "nbformat_minor": 5
}
